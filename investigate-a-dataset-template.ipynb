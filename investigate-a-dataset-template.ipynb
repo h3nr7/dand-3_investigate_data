{
 "cells": [
  {
   "cell_type": "markdown",
   "metadata": {},
   "source": [
    "> **Tip**: Welcome to the Investigate a Dataset project! You will find tips in quoted sections like this to help organize your approach to your investigation. Before submitting your project, it will be a good idea to go back through your report and remove these sections to make the presentation of your work as tidy as possible. First things first, you might want to double-click this Markdown cell and change the title so that it reflects your dataset and investigation.\n",
    "\n",
    "# Project: Investigate a Dataset (Replace this with something more specific!)\n",
    "\n",
    "## Table of Contents\n",
    "<ul>\n",
    "<li><a href=\"#intro\">Introduction</a></li>\n",
    "<li><a href=\"#wrangling\">Data Wrangling</a></li>\n",
    "<li><a href=\"#eda\">Exploratory Data Analysis</a></li>\n",
    "<li><a href=\"#conclusions\">Conclusions</a></li>\n",
    "</ul>"
   ]
  },
  {
   "cell_type": "markdown",
   "metadata": {},
   "source": [
    "<a id='intro'></a>\n",
    "## Introduction\n",
    "\n",
    "> **Tip**: In this section of the report, provide a brief introduction to the dataset you've selected for analysis. At the end of this section, describe the questions that you plan on exploring over the course of the report. Try to build your report around the analysis of at least one dependent variable and three independent variables.\n",
    ">\n",
    "> If you haven't yet selected and downloaded your data, make sure you do that first before coming back here. If you're not sure what questions to ask right now, then make sure you familiarize yourself with the variables and the dataset context for ideas of what to explore."
   ]
  },
  {
   "cell_type": "code",
   "execution_count": 3,
   "metadata": {},
   "outputs": [
    {
     "name": "stdout",
     "output_type": "stream",
     "text": [
      "Using matplotlib backend: MacOSX\n"
     ]
    }
   ],
   "source": [
    "# Use this cell to set up import statements for all of the packages that you\n",
    "#   plan to use.\n",
    "\n",
    "# Remember to include a 'magic word' so that your visualizations are plotted\n",
    "#   inline with the notebook. See this page for more:\n",
    "#   http://ipython.readthedocs.io/en/stable/interactive/magics.html\n",
    "from os import path\n",
    "import csv\n",
    "import xlrd\n",
    "import pprint as pp\n",
    "import numpy as np\n",
    "import matplotlib.pyplot as plt\n",
    "%matplotlib\n"
   ]
  },
  {
   "cell_type": "markdown",
   "metadata": {},
   "source": [
    "<a id='wrangling'></a>\n",
    "## Data Wrangling\n",
    "\n",
    "> **Tip**: In this section of the report, you will load in the data, check for cleanliness, and then trim and clean your dataset for analysis. Make sure that you document your steps carefully and justify your cleaning decisions.\n",
    "\n",
    "### General Properties"
   ]
  },
  {
   "cell_type": "code",
   "execution_count": 21,
   "metadata": {},
   "outputs": [
    {
     "name": "stdout",
     "output_type": "stream",
     "text": [
      "file:  data/gun_data.xlsx\n",
      "Sample Data with 12485 rows:\n",
      "{'admin': 0.0,\n",
      " 'handgun': 5734.0,\n",
      " 'long_gun': 6320.0,\n",
      " 'month': '2017-09',\n",
      " 'multiple': 317.0,\n",
      " 'other': 221.0,\n",
      " 'permit': 16717.0,\n",
      " 'permit_recheck': 0.0,\n",
      " 'prepawn_handgun': 15.0,\n",
      " 'prepawn_long_gun': 21.0,\n",
      " 'prepawn_other': 2.0,\n",
      " 'private_sale_handgun': 9.0,\n",
      " 'private_sale_long_gun': 16.0,\n",
      " 'private_sale_other': 3.0,\n",
      " 'redemption_handgun': 1378.0,\n",
      " 'redemption_long_gun': 1262.0,\n",
      " 'redemption_other': 1.0,\n",
      " 'rentals_handgun': 0.0,\n",
      " 'rentals_long_gun': 0.0,\n",
      " 'return_to_seller_handgun': 0.0,\n",
      " 'return_to_seller_long_gun': 0.0,\n",
      " 'return_to_seller_other': 3.0,\n",
      " 'returned_handgun': 0.0,\n",
      " 'returned_long_gun': 0.0,\n",
      " 'returned_other': 0.0,\n",
      " 'state': 'Alabama',\n",
      " 'totals': 32019.0}\n",
      "file:  data/U.S. Census Data.csv\n",
      "Sample Data with 85 rows:\n",
      "OrderedDict([('Fact', 'Population estimates, July 1, 2016,  (V2016)'),\n",
      "             ('Fact Note', ''),\n",
      "             ('Alabama', '4,863,300'),\n",
      "             ('Alaska', '741,894'),\n",
      "             ('Arizona', '6,931,071'),\n",
      "             ('Arkansas', '2,988,248'),\n",
      "             ('California', '39,250,017'),\n",
      "             ('Colorado', '5,540,545'),\n",
      "             ('Connecticut', '3,576,452'),\n",
      "             ('Delaware', '952,065'),\n",
      "             ('Florida', '20,612,439'),\n",
      "             ('Georgia', '10,310,371'),\n",
      "             ('Hawaii', '1,428,557'),\n",
      "             ('Idaho', '1,683,140'),\n",
      "             ('Illinois', '12,801,539'),\n",
      "             ('Indiana', '6,633,053'),\n",
      "             ('Iowa', '3,134,693'),\n",
      "             ('Kansas', '2,907,289'),\n",
      "             ('Kentucky', '4,436,974'),\n",
      "             ('Louisiana', '4,681,666'),\n",
      "             ('Maine', '1,331,479'),\n",
      "             ('Maryland', '6,016,447'),\n",
      "             ('Massachusetts', '6,811,779'),\n",
      "             ('Michigan', '9,928,300'),\n",
      "             ('Minnesota', '5,519,952'),\n",
      "             ('Mississippi', '2,988,726'),\n",
      "             ('Missouri', '6,093,000'),\n",
      "             ('Montana', '1,042,520'),\n",
      "             ('Nebraska', '1,907,116'),\n",
      "             ('Nevada', '2,940,058'),\n",
      "             ('New Hampshire', '1,334,795'),\n",
      "             ('New Jersey', '8,944,469'),\n",
      "             ('New Mexico', '2081015'),\n",
      "             ('New York', '19745289'),\n",
      "             ('North Carolina', '10146788'),\n",
      "             ('North Dakota', '757952'),\n",
      "             ('Ohio', '11614373'),\n",
      "             ('Oklahoma', '3923561'),\n",
      "             ('Oregon', '4093465'),\n",
      "             ('Pennsylvania', '12784227'),\n",
      "             ('Rhode Island', '1056426'),\n",
      "             ('South Carolina', '4961119'),\n",
      "             ('South Dakota', '865454'),\n",
      "             ('Tennessee', '6651194'),\n",
      "             ('Texas', '27,862,596'),\n",
      "             ('Utah', '3,051,217'),\n",
      "             ('Vermont', '624,594'),\n",
      "             ('Virginia', '8,411,808'),\n",
      "             ('Washington', '7,288,000'),\n",
      "             ('West Virginia', '1,831,102'),\n",
      "             ('Wisconsin', '5,778,708'),\n",
      "             ('Wyoming', '585,501')])\n"
     ]
    }
   ],
   "source": [
    "# Load your data and print out a few lines. Perform operations to inspect data\n",
    "#   types and look for instances of missing or possibly errant data.\n",
    "def load_data(file):\n",
    "    with open(file, 'r') as file_in:\n",
    "        ext = path.splitext(file)[1]\n",
    "        sampleRow = None\n",
    "        print('file: ', file)\n",
    "        outData = []\n",
    "        # CSV\n",
    "        if ext == '.csv':\n",
    "            reader = csv.DictReader(file_in)\n",
    "            for i, row in enumerate(reader):\n",
    "                if i < 1:\n",
    "                    sampleRow = row\n",
    "                outData.append(row)\n",
    "        # XLSX\n",
    "        elif ext == '.xlsx':\n",
    "            wb = xlrd.open_workbook(file)\n",
    "            sh = wb.sheet_by_name('Sheet1')\n",
    "            title = None\n",
    "            firstRow = []\n",
    "            for i in range(sh.nrows):\n",
    "                if i == 0:\n",
    "                    title = sh.row_values(i)\n",
    "                elif i == 1:\n",
    "                    firstRow = sh.row_values(i)\n",
    "                \n",
    "                if i > 0:\n",
    "                    outData.append(dict(zip(title, sh.row_values(i))))\n",
    "\n",
    "            sampleRow=dict(zip(title, firstRow))\n",
    "            \n",
    "    return sampleRow, outData\n",
    "files=[\n",
    "    'data/gun_data.xlsx',\n",
    "    'data/U.S. Census Data.csv'\n",
    "]\n",
    "for file in files:\n",
    "    sample, data = load_data(file)\n",
    "    print('Sample Data with %s rows:' % len(data))\n",
    "    pp.pprint(sample)\n"
   ]
  },
  {
   "cell_type": "markdown",
   "metadata": {},
   "source": [
    "> **Tip**: You should _not_ perform too many operations in each cell. Create cells freely to explore your data. One option that you can take with this project is to do a lot of explorations in an initial notebook. These don't have to be organized, but make sure you use enough comments to understand the purpose of each code cell. Then, after you're done with your analysis, create a duplicate notebook where you will trim the excess and organize your steps so that you have a flowing, cohesive report.\n",
    "\n",
    "> **Tip**: Make sure that you keep your reader informed on the steps that you are taking in your investigation. Follow every code cell, or every set of related code cells, with a markdown cell to describe to the reader what was found in the preceding cell(s). Try to make it so that the reader can then understand what they will be seeing in the following cell(s).\n",
    "\n",
    "### Data Cleaning (Replace this with more specific notes!)"
   ]
  },
  {
   "cell_type": "code",
   "execution_count": null,
   "metadata": {
    "collapsed": true
   },
   "outputs": [],
   "source": [
    "# After discussing the structure of the data and any problems that need to be\n",
    "#   cleaned, perform those cleaning steps in the second part of this section.\n"
   ]
  },
  {
   "cell_type": "markdown",
   "metadata": {},
   "source": [
    "<a id='eda'></a>\n",
    "## Exploratory Data Analysis\n",
    "\n",
    "> **Tip**: Now that you've trimmed and cleaned your data, you're ready to move on to exploration. Compute statistics and create visualizations with the goal of addressing the research questions that you posed in the Introduction section. It is recommended that you be systematic with your approach. Look at one variable at a time, and then follow it up by looking at relationships between variables.\n",
    "\n",
    "### Research Question 1 (Replace this header name!)"
   ]
  },
  {
   "cell_type": "code",
   "execution_count": null,
   "metadata": {
    "collapsed": true
   },
   "outputs": [],
   "source": [
    "# Use this, and more code cells, to explore your data. Don't forget to add\n",
    "#   Markdown cells to document your observations and findings.\n"
   ]
  },
  {
   "cell_type": "markdown",
   "metadata": {},
   "source": [
    "### Research Question 2  (Replace this header name!)"
   ]
  },
  {
   "cell_type": "code",
   "execution_count": null,
   "metadata": {
    "collapsed": true
   },
   "outputs": [],
   "source": [
    "# Continue to explore the data to address your additional research\n",
    "#   questions. Add more headers as needed if you have more questions to\n",
    "#   investigate.\n"
   ]
  },
  {
   "cell_type": "markdown",
   "metadata": {},
   "source": [
    "<a id='conclusions'></a>\n",
    "## Conclusions\n",
    "\n",
    "> **Tip**: Finally, summarize your findings and the results that have been performed. Make sure that you are clear with regards to the limitations of your exploration. If you haven't done any statistical tests, do not imply any statistical conclusions. And make sure you avoid implying causation from correlation!\n",
    "\n",
    "> **Tip**: Once you are satisfied with your work, you should save a copy of the report in HTML or PDF form via the **File** > **Download as** submenu. Before exporting your report, check over it to make sure that the flow of the report is complete. You should probably remove all of the \"Tip\" quotes like this one so that the presentation is as tidy as possible. Congratulations!"
   ]
  },
  {
   "cell_type": "code",
   "execution_count": null,
   "metadata": {
    "collapsed": true
   },
   "outputs": [],
   "source": []
  }
 ],
 "metadata": {
  "kernelspec": {
   "display_name": "Python 3",
   "language": "python",
   "name": "python3"
  },
  "language_info": {
   "codemirror_mode": {
    "name": "ipython",
    "version": 3
   },
   "file_extension": ".py",
   "mimetype": "text/x-python",
   "name": "python",
   "nbconvert_exporter": "python",
   "pygments_lexer": "ipython3",
   "version": "3.6.1"
  }
 },
 "nbformat": 4,
 "nbformat_minor": 2
}
